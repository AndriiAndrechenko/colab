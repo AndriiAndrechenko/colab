{
  "nbformat": 4,
  "nbformat_minor": 0,
  "metadata": {
    "colab": {
      "provenance": []
    },
    "kernelspec": {
      "name": "python3",
      "display_name": "Python 3"
    },
    "language_info": {
      "name": "python"
    }
  },
  "cells": [
    {
      "cell_type": "code",
      "execution_count": 12,
      "metadata": {
        "colab": {
          "base_uri": "https://localhost:8080/"
        },
        "id": "xUJgZadF8OK3",
        "outputId": "61814463-3d45-45da-a3ae-5856aa014761"
      },
      "outputs": [
        {
          "output_type": "stream",
          "name": "stdout",
          "text": [
            "\n",
            "# Греція\n",
            "\n",
            "## Площа і населення\n",
            "\n",
            "**Площа:** 131,957 км²  \n",
            "**Населення:** 10.4 мільйона (станом на 2021 рік)\n",
            "\n",
            "## Державний устрій\n",
            "\n",
            "Греція - парламентська республіка.\n",
            "\n",
            "## Видатні персоналії\n",
            "\n",
            "* **Сократ** - давньогрецький філософ.\n",
            "* **Арістотель** - давньогрецький філософ і вчений.\n",
            "* **Олександр Македонський** - цар Македонії, військовий стратег і завойовник.\n",
            "\n",
            "## Пам'ятки культури та природи\n",
            "\n",
            "- **Парфенон** - храм на Афінському Акрополі.\n",
            "- **Дельфи** - археологічний комплекс, який був важливим релігійним центром.\n",
            "- **Острів Санторіні** - відомий своєю красою та білими будівлями з синіми дахами.\n",
            "\n",
            "## Вкладені списки\n",
            "\n",
            "### Архітектурні пам'ятки\n",
            "\n",
            "- Акрополь\n",
            "  - Парфенон\n",
            "  - Ерехтейон\n",
            "- Храм Зевса Олімпійського\n",
            "\n",
            "### Природні пам'ятки\n",
            "\n",
            "- Метеора\n",
            "  - Скелі\n",
            "  - Монастирі\n",
            "- Острів Крит\n",
            "  - Печера Зевса\n",
            "  - Пляж Елафонісі\n",
            "\n",
            "## Таблиця\n",
            "\n",
            "| Пам'ятка            | Місцезнаходження    | Опис                                         |\n",
            "|---------------------|---------------------|----------------------------------------------|\n",
            "| Парфенон            | Афіни               | Стародавній храм, присвячений Афіні          |\n",
            "| Дельфи              | Центральна Греція   | Археологічний комплекс, центр античного світу|\n",
            "| Острів Санторіні    | Кіклади             | Відомий своїми пляжами та білими будівлями   |\n",
            "\n",
            "## Картинки\n",
            "\n",
            "![Парфенон](https://encrypted-tbn0.gstatic.com/images?q=tbn:ANd9GcR424_kBXhZgd-lAaNCjQjx12JEz_2f303oHw&s)\n",
            "\n",
            "[![Санторіні](https://planetofhotels.com/guide/sites/default/files/styles/node__blog_post__bp_banner/public/2023-05/Oia-village-Santorini-islan.jpg)](https://planetofhotels.com/guide/sites/default/files/styles/node__blog_post__bp_banner/public/2023-05/Oia-village-Santorini-islan.jpg)\n",
            "\n",
            "## Гіперпосилання\n",
            "\n",
            "Детальніше про [Грецію на Вікіпедії](https://uk.wikipedia.org/wiki/%D0%93%D1%80%D0%B5%D1%86%D1%96%D1%8F).\n",
            "\n"
          ]
        }
      ],
      "source": [
        "text = \"\"\"\n",
        "# Греція\n",
        "\n",
        "## Площа і населення\n",
        "\n",
        "**Площа:** 131,957 км²\n",
        "**Населення:** 10.4 мільйона (станом на 2021 рік)\n",
        "\n",
        "## Державний устрій\n",
        "\n",
        "Греція - парламентська республіка.\n",
        "\n",
        "## Видатні персоналії\n",
        "\n",
        "* **Сократ** - давньогрецький філософ.\n",
        "* **Арістотель** - давньогрецький філософ і вчений.\n",
        "* **Олександр Македонський** - цар Македонії, військовий стратег і завойовник.\n",
        "\n",
        "## Пам'ятки культури та природи\n",
        "\n",
        "- **Парфенон** - храм на Афінському Акрополі.\n",
        "- **Дельфи** - археологічний комплекс, який був важливим релігійним центром.\n",
        "- **Острів Санторіні** - відомий своєю красою та білими будівлями з синіми дахами.\n",
        "\n",
        "## Вкладені списки\n",
        "\n",
        "### Архітектурні пам'ятки\n",
        "\n",
        "- Акрополь\n",
        "  - Парфенон\n",
        "  - Ерехтейон\n",
        "- Храм Зевса Олімпійського\n",
        "\n",
        "### Природні пам'ятки\n",
        "\n",
        "- Метеора\n",
        "  - Скелі\n",
        "  - Монастирі\n",
        "- Острів Крит\n",
        "  - Печера Зевса\n",
        "  - Пляж Елафонісі\n",
        "\n",
        "## Таблиця\n",
        "\n",
        "| Пам'ятка            | Місцезнаходження    | Опис                                         |\n",
        "|---------------------|---------------------|----------------------------------------------|\n",
        "| Парфенон            | Афіни               | Стародавній храм, присвячений Афіні          |\n",
        "| Дельфи              | Центральна Греція   | Археологічний комплекс, центр античного світу|\n",
        "| Острів Санторіні    | Кіклади             | Відомий своїми пляжами та білими будівлями   |\n",
        "\n",
        "## Картинки\n",
        "\n",
        "![Парфенон](https://encrypted-tbn0.gstatic.com/images?q=tbn:ANd9GcR424_kBXhZgd-lAaNCjQjx12JEz_2f303oHw&s)\n",
        "\n",
        "[![Санторіні](https://planetofhotels.com/guide/sites/default/files/styles/node__blog_post__bp_banner/public/2023-05/Oia-village-Santorini-islan.jpg)](https://planetofhotels.com/guide/sites/default/files/styles/node__blog_post__bp_banner/public/2023-05/Oia-village-Santorini-islan.jpg)\n",
        "\n",
        "## Гіперпосилання\n",
        "\n",
        "Детальніше про [Грецію на Вікіпедії](https://uk.wikipedia.org/wiki/%D0%93%D1%80%D0%B5%D1%86%D1%96%D1%8F).\n",
        "\"\"\"\n",
        "\n",
        "print(text)\n",
        "\n"
      ]
    },
    {
      "cell_type": "code",
      "source": [
        "%%HTML\n",
        "<svg xmlns=\"http://www.w3.org/2000/svg\" width=\"600\" height=\"400\" viewBox=\"0 0 27 18\">\n",
        "<rect fill=\"#0D5EAF\" width=\"27\" height=\"18\"/>\n",
        "<path fill=\"none\" stroke-width=\"2\" stroke=\"#FFF\" d=\"M5,0V11 M0,5H10 M10,3H27 M10,7H27 M0,11H27 M0,15H27\"/>\n",
        "<rect xmlns=\"http://www.w3.org/2000/svg\" fill=\"#0D5EAF\" width=\"27\" height=\"18\"/>\n",
        "<path xmlns=\"http://www.w3.org/2000/svg\" fill=\"none\" stroke-width=\"2\" stroke=\"#FFF\" d=\"M5,0V11 M0,5H10 M10,3H27 M10,7H27 M0,11H27 M0,15H27\"/>\n",
        "</svg>"
      ],
      "metadata": {
        "colab": {
          "base_uri": "https://localhost:8080/",
          "height": 421
        },
        "id": "pIzJPukZ_WHF",
        "outputId": "c3aeb894-766c-41a7-f70d-3a1af4740d16"
      },
      "execution_count": 13,
      "outputs": [
        {
          "output_type": "display_data",
          "data": {
            "text/plain": [
              "<IPython.core.display.HTML object>"
            ],
            "text/html": [
              "<svg xmlns=\"http://www.w3.org/2000/svg\" width=\"600\" height=\"400\" viewBox=\"0 0 27 18\">\n",
              "<rect fill=\"#0D5EAF\" width=\"27\" height=\"18\"/>\n",
              "<path fill=\"none\" stroke-width=\"2\" stroke=\"#FFF\" d=\"M5,0V11 M0,5H10 M10,3H27 M10,7H27 M0,11H27 M0,15H27\"/>\n",
              "<rect xmlns=\"http://www.w3.org/2000/svg\" fill=\"#0D5EAF\" width=\"27\" height=\"18\"/>\n",
              "<path xmlns=\"http://www.w3.org/2000/svg\" fill=\"none\" stroke-width=\"2\" stroke=\"#FFF\" d=\"M5,0V11 M0,5H10 M10,3H27 M10,7H27 M0,11H27 M0,15H27\"/>\n",
              "</svg>\n"
            ]
          },
          "metadata": {}
        }
      ]
    }
  ]
}