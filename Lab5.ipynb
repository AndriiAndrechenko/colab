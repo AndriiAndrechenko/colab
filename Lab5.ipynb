{
  "nbformat": 4,
  "nbformat_minor": 0,
  "metadata": {
    "colab": {
      "provenance": []
    },
    "kernelspec": {
      "name": "python3",
      "display_name": "Python 3"
    },
    "language_info": {
      "name": "python"
    }
  },
  "cells": [
    {
      "cell_type": "code",
      "execution_count": 3,
      "metadata": {
        "colab": {
          "base_uri": "https://localhost:8080/"
        },
        "id": "QuvsDHS9WvxM",
        "outputId": "c8196f7a-842d-43c2-d0de-6071a0a69399"
      },
      "outputs": [
        {
          "output_type": "stream",
          "name": "stdout",
          "text": [
            "13\n",
            "13\n",
            "120\n",
            "120\n",
            "Hello, John! You are 20 years old.\n",
            "Hello, John! You are 30 years old.\n",
            "Hello, Jane! You are 25 years old.\n"
          ]
        }
      ],
      "source": [
        "from functools import wraps\n",
        "from typing import Callable, Any\n",
        "\n",
        "def cache(func: Callable) -> Callable:\n",
        "  \"\"\"\n",
        "  Декоратор, який кешує результати функції.\n",
        "\n",
        "  Args:\n",
        "    func: Функція, яку потрібно кешувати.\n",
        "\n",
        "  Returns:\n",
        "    Декорована функція.\n",
        "  \"\"\"\n",
        "  cache_dict = {}\n",
        "\n",
        "  @wraps(func)\n",
        "  def wrapper(*args, **kwargs):\n",
        "    \"\"\"\n",
        "    Обгортка для кешування результатів.\n",
        "    \"\"\"\n",
        "    key = (args, tuple(sorted(kwargs.items())))\n",
        "    if key in cache_dict:\n",
        "      return cache_dict[key]\n",
        "    else:\n",
        "      result = func(*args, **kwargs)\n",
        "      cache_dict[key] = result\n",
        "      return result\n",
        "  return wrapper\n",
        "\n",
        "@cache\n",
        "def sum_of_squares(a: int, b: int) -> int:\n",
        "  \"\"\"\n",
        "  Функція, яка обчислює суму квадратів двох чисел.\n",
        "  \"\"\"\n",
        "  return a**2 + b**2\n",
        "\n",
        "@cache\n",
        "def factorial(n: int) -> int:\n",
        "  \"\"\"\n",
        "  Функція, яка обчислює факторіал числа.\n",
        "  \"\"\"\n",
        "  if n == 0:\n",
        "    return 1\n",
        "  else:\n",
        "    return n * factorial(n-1)\n",
        "\n",
        "@cache\n",
        "def greet(name: str, age: int = 20) -> str:\n",
        "  \"\"\"\n",
        "  Функція, яка вітає користувача.\n",
        "  \"\"\"\n",
        "  return f\"Hello, {name}! You are {age} years old.\"\n",
        "\n",
        "print(sum_of_squares(2, 3))\n",
        "print(sum_of_squares(2, 3))\n",
        "print(factorial(5))\n",
        "print(factorial(5))\n",
        "print(greet(\"John\"))\n",
        "print(greet(\"John\", 30))\n",
        "print(greet(\"Jane\", age=25))"
      ]
    }
  ]
}